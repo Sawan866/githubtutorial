{
  "nbformat": 4,
  "nbformat_minor": 0,
  "metadata": {
    "colab": {
      "provenance": [],
      "collapsed_sections": [],
      "authorship_tag": "ABX9TyNm70BJ5w2HlclkUeilnBjt",
      "include_colab_link": true
    },
    "kernelspec": {
      "name": "python3",
      "display_name": "Python 3"
    },
    "language_info": {
      "name": "python"
    }
  },
  "cells": [
    {
      "cell_type": "markdown",
      "metadata": {
        "id": "view-in-github",
        "colab_type": "text"
      },
      "source": [
        "<a href=\"https://colab.research.google.com/github/Sawan866/githubtutorial/blob/main/Maxima.ipynb\" target=\"_parent\"><img src=\"https://colab.research.google.com/assets/colab-badge.svg\" alt=\"Open In Colab\"/></a>"
      ]
    },
    {
      "cell_type": "markdown",
      "source": [
        "#Finding maxima of the function  \n",
        "##sin(x) - |x|"
      ],
      "metadata": {
        "id": "DHQwijLrP_gK"
      }
    },
    {
      "cell_type": "code",
      "execution_count": 36,
      "metadata": {
        "id": "WiU_Oh9wP1oO"
      },
      "outputs": [],
      "source": [
        "# Import Part\n",
        "import random\n",
        "from typing import List\n",
        "\n",
        "import numpy as np\n",
        "import matplotlib.pyplot as plt\n"
      ]
    },
    {
      "cell_type": "markdown",
      "source": [
        "# Auxiliary GA Operations"
      ],
      "metadata": {
        "id": "G_yT8vmUAwA3"
      }
    },
    {
      "cell_type": "code",
      "source": [
        "def _utils_constraints(g,min_,max_):\n",
        "\n",
        "  if max_ and g > max_:\n",
        "    g = max_\n",
        "  if min_ and g < min_:\n",
        "    g = min_\n",
        "  return g  "
      ],
      "metadata": {
        "id": "YVInfkukRHnb"
      },
      "execution_count": 85,
      "outputs": []
    },
    {
      "cell_type": "code",
      "source": [
        "def crossover_blend(g1, g2, alpha, min = None, max = None):\n",
        "  shift = (1 + 2 * alpha) * random.random() - alpha\n",
        "  new_g1 = (1 - shift) * g1 + shift * g2\n",
        "  new_g2 = shift * g1 + (1-shift) * g2\n",
        "\n",
        "  return _utils_constraints(new_g1, min, max), _utils_constraints(new_g2, min, max)\n",
        "  \n"
      ],
      "metadata": {
        "id": "QJXpitJzS12z"
      },
      "execution_count": 38,
      "outputs": []
    },
    {
      "cell_type": "code",
      "source": [
        "def mutate_gaussian(g, mu, sigma, min = None, max = None):\n",
        "  mutated_gene = g + random.gauss(mu, sigma)\n",
        "  return _utils_constraints(mutate_gaussian, min, max)"
      ],
      "metadata": {
        "id": "q1KWvOslUg8g"
      },
      "execution_count": 39,
      "outputs": []
    },
    {
      "cell_type": "code",
      "source": [
        "def select_tournament(population, tournament_size):\n",
        "  new_offspring = []\n",
        "  for _ in range(len(population)):\n",
        "    candidates = [random.choice(population) for _ in range(tournament_size)]\n",
        "    new_offspring.append(max(candidates, key= lambda ind:ind.fitness))\n",
        "  return new_offspring\n",
        "\n"
      ],
      "metadata": {
        "id": "tAJgaOHvCU_7"
      },
      "execution_count": 54,
      "outputs": []
    },
    {
      "cell_type": "code",
      "source": [
        "def func(x):\n",
        "  return np.sin(x) - 2 * abs(x)"
      ],
      "metadata": {
        "id": "1weaelogMuIb"
      },
      "execution_count": 41,
      "outputs": []
    },
    {
      "cell_type": "code",
      "source": [
        "def get_best(population):\n",
        "  best = population[0]\n",
        "\n",
        "  for ind in population:\n",
        "    if ind.fitness > best.fitness:\n",
        "      best = ind\n",
        "    return best"
      ],
      "metadata": {
        "id": "8pUZHNT--Bln"
      },
      "execution_count": 77,
      "outputs": []
    },
    {
      "cell_type": "code",
      "source": [
        "def plot_population(population, number_of_population):\n",
        "  best = get_best(population)\n",
        "\n",
        "  x = np.linspace(-10, 10)\n",
        "  plt.plot(x,func(x), '--', color = 'blue')\n",
        "  plt.plot([ind.get_gene() for ind in population], [ind.fitness for ind in population], 'o', color = 'orange')\n",
        "  plt.plot([best.get_gene()],[best.fitness], \"s\", color = 'green')\n",
        "  plt.title(f\"Generation number {number_of_population}\")\n",
        "  plt.show()\n",
        "  plt.close()"
      ],
      "metadata": {
        "id": "fFHrRq1F-wzl"
      },
      "execution_count": 70,
      "outputs": []
    },
    {
      "cell_type": "markdown",
      "source": [
        "### Individual Class"
      ],
      "metadata": {
        "id": "XX1E-xo3CN3T"
      }
    },
    {
      "cell_type": "code",
      "source": [
        "class Individual:\n",
        "\n",
        "  def __init__(self, gene_list: List[float]) -> None:\n",
        "    self.gene_list = gene_list\n",
        "    self.fitness = func(self.gene_list[0])\n",
        "\n",
        "  def get_gene(self):\n",
        "    return self.gene_list[0]\n",
        "\n",
        "\n",
        "  @classmethod\n",
        "  def crossover(cls,parent1,parent2):\n",
        "    child1_gene,child2_gene = crossover_blend(parent1.get_gene(),parent2.get_gene(),1,-10,10)\n",
        "    return Individual([child1_gene]), Individual([child2_gene])\n",
        "\n",
        "  @classmethod\n",
        "  def mutate(cls,ind):\n",
        "    mutated_gene = mutate_gaussian(ind.get_gene(),0,1,-10,10)\n",
        "    return Individual([mutated_gene])\n",
        "\n",
        "  @classmethod\n",
        "  def select(cls,population):\n",
        "    return select_tournament(population, tournament_size= 3)\n",
        "\n",
        "  @classmethod\n",
        "  def create_random(cls):\n",
        "    return Individual([random.randrange(-1000,1000)/100])\n",
        "\n"
      ],
      "metadata": {
        "id": "jHbcU-17Bh6O"
      },
      "execution_count": 79,
      "outputs": []
    },
    {
      "cell_type": "markdown",
      "source": [
        "## GA Flow\n"
      ],
      "metadata": {
        "id": "cf27ItvxhSxs"
      }
    },
    {
      "cell_type": "code",
      "source": [
        "random.seed(52)\n",
        "# random.seed(16) # Local minima\n",
        "POPULATION_SIZE = 10\n",
        "CROSSOVER_PROBABILITY = 0.8\n",
        "MUTATION_PROBABILITY = 0.1\n",
        "MAX_GENERATION = 10"
      ],
      "metadata": {
        "id": "-hBNLwZafQ_w"
      },
      "execution_count": 80,
      "outputs": []
    },
    {
      "cell_type": "code",
      "source": [
        "first_population = [Individual.create_random() for _ in range(POPULATION_SIZE)]\n",
        "plot_population(first_population,0)"
      ],
      "metadata": {
        "colab": {
          "base_uri": "https://localhost:8080/",
          "height": 281
        },
        "id": "G0WV_-bqiRU8",
        "outputId": "1f494c21-f401-463b-a0e3-77d1d65cf180"
      },
      "execution_count": 81,
      "outputs": [
        {
          "output_type": "display_data",
          "data": {
            "text/plain": [
              "<Figure size 432x288 with 1 Axes>"
            ],
            "image/png": "[encoded data removed]"
          },
          "metadata": {
            "needs_background": "light"
          }
        }
      ]
    },
    {
      "cell_type": "code",
      "source": [
        "\n",
        "generation_number = 0\n",
        "\n",
        "population = first_population.copy()\n",
        "\n",
        "while generation_number < MAX_GENERATION:\n",
        "  generation_number += 1\n"
      ],
      "metadata": {
        "id": "HCFwDIoujJmJ"
      },
      "execution_count": 82,
      "outputs": []
    },
    {
      "cell_type": "code",
      "source": [
        "# generation_number = 0"
      ],
      "metadata": {
        "id": "-OcIu_Z65xSe"
      },
      "execution_count": 55,
      "outputs": []
    },
    {
      "cell_type": "code",
      "source": [
        "# population = first_population.copy()\n"
      ],
      "metadata": {
        "id": "SkqLAsfY51Lr"
      },
      "execution_count": 56,
      "outputs": []
    },
    {
      "cell_type": "code",
      "source": [
        "# while generation_number < MAX_GENERATION:\n",
        "  # generation_number += 1"
      ],
      "metadata": {
        "id": "FTlMN0z653jR"
      },
      "execution_count": 57,
      "outputs": []
    },
    {
      "cell_type": "code",
      "source": [
        "# SELECTION\n",
        "offspring = Individual.select(population)\n",
        "\n",
        "# CROSSOVER\n",
        "crossed_offspring =[]\n",
        "\n",
        "for ind1,ind2 in zip(offspring[::2], offspring[1::2]):\n",
        "  if random.random() < CROSSOVER_PROBABILITY:\n",
        "    kid1, kid2 = Individual.crossover(ind1 ,ind2)\n",
        "    crossed_offspring.append(kid1)\n",
        "    crossed_offspring.append(kid2)\n",
        "\n",
        "  else:\n",
        "    crossed_offspring.append(ind1)\n",
        "    crossed_offspring.append(ind2)\n"
      ],
      "metadata": {
        "id": "T2K3wZQjmBJv"
      },
      "execution_count": 83,
      "outputs": []
    },
    {
      "cell_type": "code",
      "source": [
        "# MUTATION\n",
        "\n",
        "mutated_offspring = []\n",
        "\n",
        "for mutant in crossed_offspring:\n",
        "  if random.random() < MUTATION_PROBABILITY:\n",
        "    new_mutant = Individual.mutate(mutant)\n",
        "    mutated_offspring.append(new_mutant)\n",
        "  else:\n",
        "    mutated_offspring.append(mutant)"
      ],
      "metadata": {
        "id": "gGf9o2K0opFD"
      },
      "execution_count": 86,
      "outputs": []
    },
    {
      "cell_type": "code",
      "source": [
        "population = mutated_offspring.copy()\n",
        "\n",
        "plot_population(population, generation_number)"
      ],
      "metadata": {
        "colab": {
          "base_uri": "https://localhost:8080/",
          "height": 281
        },
        "id": "T7DxLlcpqHQT",
        "outputId": "ecb02f0c-417f-41a1-b054-a82b2a5aea71"
      },
      "execution_count": 87,
      "outputs": [
        {
          "output_type": "display_data",
          "data": {
            "text/plain": [
              "<Figure size 432x288 with 1 Axes>"
            ],
            "image/png": "[encoded data removed]"
          },
          "metadata": {
            "needs_background": "light"
          }
        }
      ]
    },
    {
      "cell_type": "code",
      "source": [],
      "metadata": {
        "id": "6vkFu0wQqYtn"
      },
      "execution_count": null,
      "outputs": []
    }
  ]
}