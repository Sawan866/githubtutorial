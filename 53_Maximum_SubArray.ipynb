{
  "nbformat": 4,
  "nbformat_minor": 0,
  "metadata": {
    "colab": {
      "name": "53. Maximum SubArray.ipynb",
      "provenance": [],
      "collapsed_sections": [],
      "authorship_tag": "ABX9TyPwGjDqySwAM2tdNLj2keao",
      "include_colab_link": true
    },
    "kernelspec": {
      "name": "python3",
      "display_name": "Python 3"
    },
    "language_info": {
      "name": "python"
    }
  },
  "cells": [
    {
      "cell_type": "markdown",
      "metadata": {
        "id": "view-in-github",
        "colab_type": "text"
      },
      "source": [
        "<a href=\"https://colab.research.google.com/github/Sawan866/githubtutorial/blob/main/53_Maximum_SubArray.ipynb\" target=\"_parent\"><img src=\"https://colab.research.google.com/assets/colab-badge.svg\" alt=\"Open In Colab\"/></a>"
      ]
    },
    {
      "cell_type": "markdown",
      "source": [
        "#**Given an intger array nums, find the contiguous subarray (Contaning atleast one number) which has largest sum and return its sum**\n",
        "\n"
      ],
      "metadata": {
        "id": "hN84JtN9y7-j"
      }
    },
    {
      "cell_type": "markdown",
      "source": [
        "Contiguous subarray means continuous sum of an array \n",
        "\n",
        "Here the concept is whenever there is negative sum we eliminate or make it zero so for that we initialize current sum with zero maxSub with first number of array i.e. num[0]\n",
        "\n",
        "Starting loop in array :\n",
        "if current sum is less than zero we return 0 to current sum\n",
        "\n",
        "adding current sum with numbers in array\n",
        "\n",
        "then check maximum between current sum and maximum sub array \n",
        "\n",
        "The maximum between maxSub and curSum will be updated in max Sub\n",
        "\n",
        "max sub is returned"
      ],
      "metadata": {
        "id": "9L3c_Kajza6h"
      }
    },
    {
      "cell_type": "code",
      "execution_count": null,
      "metadata": {
        "id": "Qi2WWTB9xHyc"
      },
      "outputs": [],
      "source": [
        "def maxSubArray(nums):\n",
        "  maxSub = nums[0]\n",
        "  curSum = 0\n",
        "\n",
        "  for n in nums:\n",
        "    if curSum < 0:\n",
        "      curSum = 0\n",
        "    curSum +=n \n",
        "    maxSub = max(maxSub,curSum)\n",
        "  return maxSub"
      ]
    },
    {
      "cell_type": "code",
      "source": [
        "a = [-2,1,-3,4,-1,2,1,-5,2]\n",
        "b = [-1]\n",
        "print(maxSubArray(a))\n",
        "print(maxSubArray(b))"
      ],
      "metadata": {
        "colab": {
          "base_uri": "https://localhost:8080/"
        },
        "id": "f5r2dxcIyPYx",
        "outputId": "34d61491-f997-4888-e44f-a345de55f5ed"
      },
      "execution_count": null,
      "outputs": [
        {
          "output_type": "stream",
          "name": "stdout",
          "text": [
            "6\n",
            "-1\n"
          ]
        }
      ]
    },
    {
      "cell_type": "code",
      "source": [],
      "metadata": {
        "id": "c0NKk8enykVt"
      },
      "execution_count": null,
      "outputs": []
    }
  ]
}